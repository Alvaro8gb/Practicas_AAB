{
 "cells": [
  {
   "attachments": {},
   "cell_type": "markdown",
   "metadata": {},
   "source": [
    "# Funciones a integrar \n",
    "Limites [0,10]\n"
   ]
  },
  {
   "cell_type": "code",
   "execution_count": 1,
   "metadata": {},
   "outputs": [],
   "source": [
    "A = 0\n",
    "B = 10\n",
    "\n",
    "def recta(x:float):\n",
    "    return x\n",
    "\n",
    "def cuadratica(x:float):\n",
    "    return -x**2 + 8*x -10  # -((x-4)**2) + 6"
   ]
  },
  {
   "attachments": {},
   "cell_type": "markdown",
   "metadata": {},
   "source": [
    "#  Mostrar graficas"
   ]
  },
  {
   "cell_type": "code",
   "execution_count": 2,
   "metadata": {},
   "outputs": [],
   "source": [
    "import matplotlib.pyplot as plt\n",
    "import numpy as np"
   ]
  },
  {
   "cell_type": "code",
   "execution_count": 3,
   "metadata": {},
   "outputs": [],
   "source": [
    "def mostrar_fun(fun, a, b):\n",
    "    # Defina el rango de valores para x\n",
    "    x = np.linspace(a, b, dtype=float)\n",
    "    \n",
    "    # Calcule los valores de y para cada valor de x\n",
    "    y = fun(x)\n",
    "\n",
    "    # Omitir valores negativos\n",
    "    y = np.where(y<0, 0, y)\n",
    "\n",
    "    # Cree el gráfico\n",
    "    plt.plot(x, y)\n",
    "\n",
    "    # Añada etiquetas a los ejes\n",
    "    plt.xlabel('x')\n",
    "    plt.ylabel('f(x)')\n",
    "\n",
    "    # Muestre el gráfico\n",
    "    plt.show()"
   ]
  },
  {
   "cell_type": "code",
   "execution_count": 4,
   "metadata": {},
   "outputs": [
    {
     "data": {
      "image/png": "[encoded data removed]",
      "text/plain": [
       "<Figure size 432x288 with 1 Axes>"
      ]
     },
     "metadata": {
      "needs_background": "light"
     },
     "output_type": "display_data"
    },
    {
     "data": {
      "image/png": "[encoded data removed]",
      "text/plain": [
       "<Figure size 432x288 with 1 Axes>"
      ]
     },
     "metadata": {
      "needs_background": "light"
     },
     "output_type": "display_data"
    }
   ],
   "source": [
    "mostrar_fun(recta, A, B)\n",
    "mostrar_fun(cuadratica, A, B)\n"
   ]
  },
  {
   "attachments": {},
   "cell_type": "markdown",
   "metadata": {},
   "source": [
    "# Funcion debe ser positiva, calculamos los cortes"
   ]
  },
  {
   "cell_type": "code",
   "execution_count": 5,
   "metadata": {},
   "outputs": [],
   "source": [
    "from math import sqrt"
   ]
  },
  {
   "cell_type": "code",
   "execution_count": 6,
   "metadata": {},
   "outputs": [],
   "source": [
    "def calcular(A, B, C):\n",
    "    if ((B**2)-4*A*C) < 0:\n",
    "        print(\"La solución de la ecuación es con números complejos\")\n",
    "    else:\n",
    "        x1 = (-B+sqrt(B**2-(4*A*C)))/(2*A)\n",
    "        x2 = (-B-sqrt(B**2-(4*A*C)))/(2*A)\n",
    "        print(\"\"\"Las soluciones de la ecuación son:\n",
    "                    x1 = {}\n",
    "                    x2 = {} \"\"\".format(x1, x2))\n",
    "    return x1,x2"
   ]
  },
  {
   "cell_type": "code",
   "execution_count": 7,
   "metadata": {},
   "outputs": [
    {
     "name": "stdout",
     "output_type": "stream",
     "text": [
      "Las soluciones de la ecuación son:\n",
      "                    x1 = 1.5505102572168221\n",
      "                    x2 = 6.449489742783178 \n"
     ]
    }
   ],
   "source": [
    "corte_x1, corte_x2 = calcular(-1, 8, -10)\n",
    "\n",
    "A = corte_x1\n",
    "B = corte_x2"
   ]
  },
  {
   "attachments": {},
   "cell_type": "markdown",
   "metadata": {},
   "source": [
    "# Integrar con libreria Scipy"
   ]
  },
  {
   "cell_type": "code",
   "execution_count": 8,
   "metadata": {},
   "outputs": [],
   "source": [
    "from scipy import integrate as itg"
   ]
  },
  {
   "cell_type": "code",
   "execution_count": 9,
   "metadata": {},
   "outputs": [
    {
     "name": "stdout",
     "output_type": "stream",
     "text": [
      "Integral definida entre a: 1.5505102572168221 y b: 6.449489742783178 \n",
      "valor: 19.595917942265423 \n",
      "error: 2.1755839288168292e-13\n"
     ]
    }
   ],
   "source": [
    "valor, error = itg.quad(cuadratica, A, B)\n",
    "print(\"Integral definida entre a:\", A, \"y b:\", B, \"\\nvalor:\", valor , \"\\nerror:\", error)\n"
   ]
  },
  {
   "attachments": {},
   "cell_type": "markdown",
   "metadata": {},
   "source": [
    "# Integral con Metodo de Monte Carlo\n",
    "## Calculo del  maximo (M) de la función"
   ]
  },
  {
   "cell_type": "code",
   "execution_count": 10,
   "metadata": {},
   "outputs": [],
   "source": [
    "from scipy.optimize import minimize_scalar"
   ]
  },
  {
   "cell_type": "code",
   "execution_count": 11,
   "metadata": {},
   "outputs": [],
   "source": [
    "def max_cuadratica(fun, corte_x1, corte_x2):\n",
    "    return minimize_scalar(fun, method=\"bounded\", bounds=(corte_x1, corte_x2))"
   ]
  },
  {
   "cell_type": "code",
   "execution_count": 12,
   "metadata": {},
   "outputs": [
    {
     "name": "stdout",
     "output_type": "stream",
     "text": [
      "6.44948627808869\n"
     ]
    }
   ],
   "source": [
    "x = max_cuadratica(cuadratica, corte_x1, corte_x2).x\n",
    "\n",
    "print(x)"
   ]
  },
  {
   "cell_type": "code",
   "execution_count": 24,
   "metadata": {},
   "outputs": [],
   "source": [
    "def max_fun(fun, a, b):\n",
    "    x = np.linspace(a, b, dtype=int)\n",
    "    y = fun(x)\n",
    "    return max(y)"
   ]
  },
  {
   "attachments": {},
   "cell_type": "markdown",
   "metadata": {},
   "source": [
    "Calcular el maximo es bastante jodido suponemos que lo sabemos en el caso de la curva , x = 4 , f(4) = 6"
   ]
  },
  {
   "cell_type": "code",
   "execution_count": 14,
   "metadata": {},
   "outputs": [
    {
     "name": "stdout",
     "output_type": "stream",
     "text": [
      "6\n"
     ]
    }
   ],
   "source": [
    "M = 6 \n",
    "\n",
    "print(max_fun(cuadratica, A, B))"
   ]
  },
  {
   "attachments": {},
   "cell_type": "markdown",
   "metadata": {},
   "source": [
    "## Generar puntos aleatorios dentro del rectangulo\n",
    "### Condiciones \n",
    "- Punto (x,y) , x < y \n",
    "- A <= x <= B donde A,B limites de integración\n",
    "- 0 <= y <= MAX_FUNC "
   ]
  },
  {
   "cell_type": "code",
   "execution_count": 15,
   "metadata": {},
   "outputs": [],
   "source": [
    "import random as rd"
   ]
  },
  {
   "cell_type": "code",
   "execution_count": 16,
   "metadata": {},
   "outputs": [],
   "source": [
    "def random_point(min_x, max_x, min_y, max_y):\n",
    "    return (rd.uniform(min_x, max_x), rd.uniform(min_y, max_y))"
   ]
  },
  {
   "cell_type": "code",
   "execution_count": 17,
   "metadata": {},
   "outputs": [
    {
     "data": {
      "text/plain": [
       "[(3.7103355466155916, 5.3827512032810825),\n",
       " (2.6726165918092732, 2.1466077758131274),\n",
       " (2.7255068904183637, 0.4438903333284505),\n",
       " (4.246496044502652, 2.942780651948005),\n",
       " (5.275176961969239, 0.6564089109424123)]"
      ]
     },
     "execution_count": 17,
     "metadata": {},
     "output_type": "execute_result"
    }
   ],
   "source": [
    "max_fun = M\n",
    "num_puntos = 5\n",
    "puntos = [  random_point(A, B, 0, max_fun) for i in range(num_puntos)]\n",
    "puntos "
   ]
  },
  {
   "cell_type": "code",
   "execution_count": 18,
   "metadata": {},
   "outputs": [
    {
     "data": {
      "image/png": "[encoded data removed]",
      "text/plain": [
       "<Figure size 432x288 with 1 Axes>"
      ]
     },
     "metadata": {
      "needs_background": "light"
     },
     "output_type": "display_data"
    }
   ],
   "source": [
    "# Defina el rango de valores para x\n",
    "x = np.linspace(A, B, dtype=float)\n",
    "\n",
    "# Calcule los valores de y para cada valor de x\n",
    "y = cuadratica(x)\n",
    "\n",
    "# Cree el gráfico\n",
    "plt.plot(x, y)\n",
    "\n",
    "p_x, p_y = zip(*puntos)\n",
    "plt.plot(p_x, p_y,\"x\",color=\"red\")\n",
    "\n",
    "# Añada etiquetas a los ejes\n",
    "plt.xlabel('x')\n",
    "plt.ylabel('f(x)')\n",
    "\n",
    "# Muestre el gráfico\n",
    "plt.show()\n",
    "\n"
   ]
  },
  {
   "cell_type": "code",
   "execution_count": 19,
   "metadata": {},
   "outputs": [],
   "source": [
    "def under_fun(fun, x, y):\n",
    "    f_x = fun(x)\n",
    "    if f_x > y:\n",
    "        return True\n",
    "    else:\n",
    "        return False"
   ]
  },
  {
   "cell_type": "code",
   "execution_count": 20,
   "metadata": {},
   "outputs": [],
   "source": [
    "def integra_mc_iterative(fun, a, b, num_puntos=10000):\n",
    "\n",
    "    if a < 0 or b < 0 :\n",
    "        raise(Exception(\"a and b should be greater than 0\"))\n",
    "\n",
    "    maxi = max_fun(fun, a, b)\n",
    "    puntos = [ random_point(a, b, 0, maxi) for i in range(num_puntos)]\n",
    "    n_under = 0\n",
    "\n",
    "    for x, y in puntos:\n",
    "        if under_fun( fun, x, y):\n",
    "            n_under+=1\n",
    "\n",
    "    #print(\"Porcentaje de n_under/n_total\", n_under/num_puntos)\n",
    "    return (n_under/num_puntos) * (b-a) * M\n"
   ]
  },
  {
   "cell_type": "code",
   "execution_count": 21,
   "metadata": {},
   "outputs": [],
   "source": [
    "def integra_mc_iterative2(fun, a, b, num_puntos=10000):\n",
    "\n",
    "    if a < 0 or b < 0 :\n",
    "        raise(Exception(\"a and b should be greater than 0\"))\n",
    "\n",
    "    maxi = max_fun(fun, a, b)\n",
    "    puntos = [ random_point(a, b, 0, maxi) for i in range(num_puntos)]\n",
    "\n",
    "    x_p, y_p = zip(*puntos)\n",
    "\n",
    "    f_p = [ fun(x) for x in x_p]\n",
    "    \n",
    "    n_under = sum(1 for f_i, y_i in zip(f_p, y_p) if f_i > y_i)\n",
    "\n",
    "    #print(\"Porcentaje de n_under/n_total\", n_under/num_puntos)\n",
    "    return (n_under/num_puntos) * (b-a) * M"
   ]
  },
  {
   "cell_type": "code",
   "execution_count": 22,
   "metadata": {},
   "outputs": [],
   "source": [
    "def integra_mc_vector(fun, a, b, num_puntos=10000):\n",
    "\n",
    "    if a < 0 or b < 0 :\n",
    "        raise(Exception(\"a and b should be greater than 0\"))\n",
    "\n",
    "    maxi = max_fun(fun, a, b)\n",
    "    \n",
    "    x_p = np.random.uniform(a, b, num_puntos)\n",
    "    y_p = np.random.uniform(0, maxi, num_puntos)\n",
    "\n",
    "    fun_vec = np.vectorize(fun)\n",
    "\n",
    "    f_p = fun_vec(x_p)\n",
    "\n",
    "    cmps = f_p > y_p\n",
    "        \n",
    "    n_under = np.count_nonzero(cmps)\n",
    "\n",
    "    #print(\"Porcentaje de n_under/n_total\", n_under/num_puntos)\n",
    "    return (n_under/num_puntos) * (b-a) * M"
   ]
  },
  {
   "cell_type": "code",
   "execution_count": 25,
   "metadata": {},
   "outputs": [
    {
     "name": "stdout",
     "output_type": "stream",
     "text": [
      "19.605715901236557\n",
      "19.934927322666617\n",
      "19.441110190521528\n"
     ]
    }
   ],
   "source": [
    "print(integra_mc_iterative(cuadratica, A, B))\n",
    "print(integra_mc_iterative2(cuadratica, A, B))\n",
    "print(integra_mc_vector(cuadratica, A, B))"
   ]
  },
  {
   "cell_type": "code",
   "execution_count": 29,
   "metadata": {},
   "outputs": [
    {
     "name": "stdout",
     "output_type": "stream",
     "text": [
      "88.1 ms ± 13.5 ms per loop (mean ± std. dev. of 7 runs, 5 loops each)\n"
     ]
    }
   ],
   "source": [
    "%timeit -n 5 integra_mc_iterative(cuadratica, A, B)\n"
   ]
  },
  {
   "cell_type": "code",
   "execution_count": 30,
   "metadata": {},
   "outputs": [
    {
     "name": "stdout",
     "output_type": "stream",
     "text": [
      "10.8 ms ± 4.83 ms per loop (mean ± std. dev. of 7 runs, 5 loops each)\n"
     ]
    }
   ],
   "source": [
    "%timeit -n 5 integra_mc_vector(cuadratica, A, B)"
   ]
  }
 ],
 "metadata": {
  "kernelspec": {
   "display_name": "AAB",
   "language": "python",
   "name": "python3"
  },
  "language_info": {
   "codemirror_mode": {
    "name": "ipython",
    "version": 3
   },
   "file_extension": ".py",
   "mimetype": "text/x-python",
   "name": "python",
   "nbconvert_exporter": "python",
   "pygments_lexer": "ipython3",
   "version": "3.8.13"
  },
  "orig_nbformat": 4,
  "vscode": {
   "interpreter": {
    "hash": "69adafda5a125247186dde8674c9e6239d8f1a124f74b9dad54104e514761759"
   }
  }
 },
 "nbformat": 4,
 "nbformat_minor": 2
}

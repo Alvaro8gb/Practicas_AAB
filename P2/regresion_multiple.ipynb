{
 "cells": [
  {
   "cell_type": "code",
   "execution_count": 1,
   "metadata": {},
   "outputs": [],
   "source": [
    "import numpy as np\n",
    "from pandas.io.parsers import read_csv"
   ]
  },
  {
   "cell_type": "code",
   "execution_count": 3,
   "metadata": {},
   "outputs": [
    {
     "name": "stdout",
     "output_type": "stream",
     "text": [
      "       0  1       2\n",
      "0   2104  3  399900\n",
      "1   1600  3  329900\n",
      "2   2400  3  369000\n",
      "3   1416  2  232000\n",
      "4   3000  4  539900\n",
      "5   1985  4  299900\n",
      "6   1534  3  314900\n",
      "7   1427  3  198999\n",
      "8   1380  3  212000\n",
      "9   1494  3  242500\n",
      "10  1940  4  239999\n",
      "11  2000  3  347000\n",
      "12  1890  3  329999\n",
      "13  4478  5  699900\n",
      "14  1268  3  259900\n",
      "15  2300  4  449900\n",
      "16  1320  2  299900\n",
      "17  1236  3  199900\n",
      "18  2609  4  499998\n",
      "19  3031  4  599000\n",
      "20  1767  3  252900\n",
      "21  1888  2  255000\n",
      "22  1604  3  242900\n",
      "23  1962  4  259900\n",
      "24  3890  3  573900\n",
      "25  1100  3  249900\n",
      "26  1458  3  464500\n",
      "27  2526  3  469000\n",
      "28  2200  3  475000\n",
      "29  2637  3  299900\n",
      "30  1839  2  349900\n",
      "31  1000  1  169900\n",
      "32  2040  4  314900\n",
      "33  3137  3  579900\n",
      "34  1811  4  285900\n",
      "35  1437  3  249900\n",
      "36  1239  3  229900\n",
      "37  2132  4  345000\n",
      "38  4215  4  549000\n",
      "39  2162  4  287000\n",
      "40  1664  2  368500\n",
      "41  2238  3  329900\n",
      "42  2567  4  314000\n",
      "43  1200  3  299000\n",
      "44   852  2  179900\n",
      "45  1852  4  299900\n",
      "46  1203  3  239500\n",
      "(47, 3)\n"
     ]
    }
   ],
   "source": [
    "df = read_csv(r\"D:\\usuarios\\alvar\\OneDrive\\Escritorio\\AAB\\Practicas_AAB\\P2\\data2.csv\", header=None)\n",
    "\n",
    "print(df)\n",
    "data = df.to_numpy()\n",
    "print(data.shape)"
   ]
  },
  {
   "cell_type": "code",
   "execution_count": 4,
   "metadata": {},
   "outputs": [],
   "source": [
    "def normalize(matrix):\n",
    "    mu = np.mean(matrix, axis=0)\n",
    "    sigma = np.std(matrix, axis=0)\n",
    "    print(mu, sigma)\n",
    "    \n",
    "    matrix_normalize = np.zeros(matrix.shape)\n",
    "    i = 0\n",
    "    for med, dev in zip(mu, sigma):\n",
    "        matrix_normalize[:,i] = (matrix[:,i] - med )/ dev\n",
    "        i+=1\n",
    "\n",
    "    return mu, sigma, matrix_normalize"
   ]
  },
  {
   "cell_type": "code",
   "execution_count": 5,
   "metadata": {},
   "outputs": [
    {
     "name": "stdout",
     "output_type": "stream",
     "text": [
      "[2.00068085e+03 3.17021277e+00 3.40412660e+05] [7.86202619e+02 7.52842809e-01 1.23702536e+05]\n"
     ]
    }
   ],
   "source": [
    "mu, sigma, data_normalize = normalize(data)"
   ]
  },
  {
   "cell_type": "code",
   "execution_count": 6,
   "metadata": {},
   "outputs": [
    {
     "name": "stdout",
     "output_type": "stream",
     "text": [
      "47 47\n"
     ]
    }
   ],
   "source": [
    "x = data_normalize[:,:-1] #variables de entrada\n",
    "y = data_normalize[:,-1]\n",
    "print(len(x), len(y))"
   ]
  },
  {
   "cell_type": "code",
   "execution_count": 7,
   "metadata": {},
   "outputs": [
    {
     "name": "stdout",
     "output_type": "stream",
     "text": [
      "[[ 1.31415422e-01 -2.26093368e-01]\n",
      " [-5.09640698e-01 -2.26093368e-01]\n",
      " [ 5.07908699e-01 -2.26093368e-01]\n",
      " [-7.43677059e-01 -1.55439190e+00]\n",
      " [ 1.27107075e+00  1.10220517e+00]\n",
      " [-1.99450507e-02  1.10220517e+00]\n",
      " [-5.93588523e-01 -2.26093368e-01]\n",
      " [-7.29685755e-01 -2.26093368e-01]\n",
      " [-7.89466782e-01 -2.26093368e-01]\n",
      " [-6.44465993e-01 -2.26093368e-01]\n",
      " [-7.71822042e-02  1.10220517e+00]\n",
      " [-8.65999486e-04 -2.26093368e-01]\n",
      " [-1.40779041e-01 -2.26093368e-01]\n",
      " [ 3.15099326e+00  2.43050370e+00]\n",
      " [-9.31923697e-01 -2.26093368e-01]\n",
      " [ 3.80715024e-01  1.10220517e+00]\n",
      " [-8.65782986e-01 -1.55439190e+00]\n",
      " [-9.72625673e-01 -2.26093368e-01]\n",
      " [ 7.73743478e-01  1.10220517e+00]\n",
      " [ 1.31050078e+00  1.10220517e+00]\n",
      " [-2.97227261e-01 -2.26093368e-01]\n",
      " [-1.43322915e-01 -1.55439190e+00]\n",
      " [-5.04552951e-01 -2.26093368e-01]\n",
      " [-4.91995958e-02  1.10220517e+00]\n",
      " [ 2.40309445e+00 -2.26093368e-01]\n",
      " [-1.14560907e+00 -2.26093368e-01]\n",
      " [-6.90255715e-01 -2.26093368e-01]\n",
      " [ 6.68172729e-01 -2.26093368e-01]\n",
      " [ 2.53521350e-01 -2.26093368e-01]\n",
      " [ 8.09357707e-01 -2.26093368e-01]\n",
      " [-2.05647815e-01 -1.55439190e+00]\n",
      " [-1.27280274e+00 -2.88269044e+00]\n",
      " [ 5.00114703e-02  1.10220517e+00]\n",
      " [ 1.44532608e+00 -2.26093368e-01]\n",
      " [-2.41262044e-01  1.10220517e+00]\n",
      " [-7.16966387e-01 -2.26093368e-01]\n",
      " [-9.68809863e-01 -2.26093368e-01]\n",
      " [ 1.67029651e-01  1.10220517e+00]\n",
      " [ 2.81647389e+00  1.10220517e+00]\n",
      " [ 2.05187753e-01  1.10220517e+00]\n",
      " [-4.28236746e-01 -1.55439190e+00]\n",
      " [ 3.01854946e-01 -2.26093368e-01]\n",
      " [ 7.20322135e-01  1.10220517e+00]\n",
      " [-1.01841540e+00 -2.26093368e-01]\n",
      " [-1.46104938e+00 -1.55439190e+00]\n",
      " [-1.89112638e-01  1.10220517e+00]\n",
      " [-1.01459959e+00 -2.26093368e-01]]\n"
     ]
    }
   ],
   "source": [
    "print(x)"
   ]
  },
  {
   "cell_type": "code",
   "execution_count": 8,
   "metadata": {},
   "outputs": [],
   "source": [
    "w = np.zeros(x[0].shape)\n",
    "b = 0\n",
    "NUMBER_OF_ITS = 1000\n",
    "ALFA = float(0.01)"
   ]
  },
  {
   "cell_type": "code",
   "execution_count": 9,
   "metadata": {},
   "outputs": [],
   "source": [
    "def linear_regression(x_i, w, b):\n",
    "    return np.dot(x_i,w) + b"
   ]
  },
  {
   "cell_type": "code",
   "execution_count": 10,
   "metadata": {},
   "outputs": [
    {
     "name": "stdout",
     "output_type": "stream",
     "text": [
      "Start: \n",
      "w = [0. 0.] b = 0\n",
      "\n",
      "Final : \n",
      "w = [ 0.8790657  -0.04747865] b = -7.856599531709097e-17\n"
     ]
    }
   ],
   "source": [
    "print(\"Start: \")\n",
    "print(\"w =\",w, \"b =\", b)\n",
    "#print(\"Coste =\", cost_fun(x, y, w, b))\n",
    "\n",
    "for i in range(NUMBER_OF_ITS):\n",
    "    #print(w, b) \n",
    "    res_1 = 0\n",
    "    res_2 = 0 \n",
    "    for i, x_i in enumerate(x):\n",
    "        y_pred = linear_regression(x_i, w, b)\n",
    "        dis =  y_pred - y[i]\n",
    "        res_1 += dis * x_i\n",
    "        res_2 += dis\n",
    "\n",
    "    v_w = ALFA * (res_1 / len(x))\n",
    "    v_b = ALFA * (res_2 / len(x))\n",
    "    w -= v_w\n",
    "    b -= v_b\n",
    "\n",
    "    # Añada etiquetas a los ejes\n",
    "\n",
    "print(\"\\nFinal : \")\n",
    "print(\"w =\",w, \"b =\", b)\n",
    "#print(\"Coste =\", cost_fun(x, y, w, b))"
   ]
  },
  {
   "cell_type": "code",
   "execution_count": 11,
   "metadata": {},
   "outputs": [
    {
     "name": "stdout",
     "output_type": "stream",
     "text": [
      "[2.00068085e+03 3.17021277e+00 3.40412660e+05] [7.86202619e+02 7.52842809e-01 1.23702536e+05]\n"
     ]
    }
   ],
   "source": [
    "print(mu, sigma)"
   ]
  },
  {
   "cell_type": "code",
   "execution_count": 13,
   "outputs": [],
   "source": [
    "def calculate(mu, sigma, x):\n",
    "    norm_x_in = (x_in - mu[:-1])/ sigma[:-1]\n",
    "\n",
    "    norm_out = linear_regression(norm_x_in, w, b)\n",
    "\n",
    "    return norm_out * sigma[-1] + mu[-1]\n"
   ],
   "metadata": {
    "collapsed": false
   }
  },
  {
   "cell_type": "code",
   "execution_count": 14,
   "metadata": {},
   "outputs": [
    {
     "name": "stdout",
     "output_type": "stream",
     "text": [
      "293236.56372275495\n"
     ]
    }
   ],
   "source": [
    "x_in = np.array([1650, 3])\n",
    "\n",
    "print(calculate(mu, sigma, x_in))\n"
   ]
  },
  {
   "cell_type": "code",
   "execution_count": null,
   "metadata": {},
   "outputs": [],
   "source": []
  }
 ],
 "metadata": {
  "kernelspec": {
   "display_name": "AAB",
   "language": "python",
   "name": "python3"
  },
  "language_info": {
   "codemirror_mode": {
    "name": "ipython",
    "version": 3
   },
   "file_extension": ".py",
   "mimetype": "text/x-python",
   "name": "python",
   "nbconvert_exporter": "python",
   "pygments_lexer": "ipython3",
   "version": "3.8.13"
  },
  "orig_nbformat": 4,
  "vscode": {
   "interpreter": {
    "hash": "69adafda5a125247186dde8674c9e6239d8f1a124f74b9dad54104e514761759"
   }
  }
 },
 "nbformat": 4,
 "nbformat_minor": 2
}

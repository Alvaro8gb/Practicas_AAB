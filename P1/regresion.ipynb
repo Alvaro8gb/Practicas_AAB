{
 "cells": [
  {
   "cell_type": "code",
   "execution_count": 1,
   "metadata": {},
   "outputs": [],
   "source": [
    "import numpy as np\n",
    "from pandas.io.parsers import read_csv"
   ]
  },
  {
   "cell_type": "markdown",
   "metadata": {},
   "source": [
    "# Datos\n",
    "Sobre los beneficios (segunda columna en el archivo) de\n",
    "una compañía de distribución de comida en distintas ciudades, \n",
    "en base a su población (primera\n",
    "columna en el archivo),"
   ]
  },
  {
   "cell_type": "code",
   "execution_count": 2,
   "metadata": {
    "colab": {
     "base_uri": "https://localhost:8080/"
    },
    "executionInfo": {
     "elapsed": 179,
     "status": "ok",
     "timestamp": 1675854400257,
     "user": {
      "displayName": "ALBERTO DIAZ ESTEBAN",
      "userId": "09370147929418307454"
     },
     "user_tz": -60
    },
    "id": "oqxsQ988otQC",
    "outputId": "d26e321d-db3d-4363-a88f-a926d23608ed"
   },
   "outputs": [
    {
     "name": "stdout",
     "output_type": "stream",
     "text": [
      "(97, 2)\n",
      "[[ 6.1101 17.592 ]\n",
      " [ 5.5277  9.1302]\n",
      " [ 8.5186 13.662 ]\n",
      " [ 7.0032 11.854 ]\n",
      " [ 5.8598  6.8233]\n",
      " [ 8.3829 11.886 ]\n",
      " [ 7.4764  4.3483]\n",
      " [ 8.5781 12.    ]\n",
      " [ 6.4862  6.5987]\n",
      " [ 5.0546  3.8166]]\n"
     ]
    }
   ],
   "source": [
    "data = read_csv(\"ex1data1.csv\", header=None).to_numpy(dtype=float)\n",
    "\n",
    "print(data.shape)\n",
    "print(data[:10])\n",
    "\n",
    "poblacion, beneficios = zip(*data)"
   ]
  },
  {
   "cell_type": "code",
   "execution_count": 3,
   "metadata": {},
   "outputs": [],
   "source": [
    "import matplotlib.pyplot as plt"
   ]
  },
  {
   "cell_type": "code",
   "execution_count": 4,
   "metadata": {},
   "outputs": [],
   "source": [
    "x = poblacion\n",
    "y = beneficios"
   ]
  },
  {
   "cell_type": "code",
   "execution_count": 5,
   "metadata": {},
   "outputs": [],
   "source": [
    "def linear_regression(x, w, b):\n",
    "    return w*x + b"
   ]
  },
  {
   "cell_type": "code",
   "execution_count": 6,
   "metadata": {},
   "outputs": [],
   "source": [
    "linear_fun = np.vectorize(linear_regression)"
   ]
  },
  {
   "cell_type": "code",
   "execution_count": 7,
   "metadata": {},
   "outputs": [],
   "source": [
    "def cost_fun(x, y, w, b):\n",
    "    y_pred = linear_fun(x, w, b)\n",
    "    return sum(np.square(y_pred - y)) / (2*len(x))"
   ]
  },
  {
   "cell_type": "markdown",
   "source": [
    "# Descenso del gradiente\n"
   ],
   "metadata": {
    "collapsed": false
   }
  },
  {
   "cell_type": "code",
   "execution_count": 8,
   "metadata": {},
   "outputs": [],
   "source": [
    "w = 0\n",
    "b = 0\n",
    "NUMBER_OF_ITS = 1500\n",
    "ALFA = float(0.01)"
   ]
  },
  {
   "cell_type": "code",
   "execution_count": 9,
   "metadata": {},
   "outputs": [
    {
     "name": "stdout",
     "output_type": "stream",
     "text": [
      "Start: \n",
      "w = 0 b = 0\n",
      "Coste = 32.072733877455654\n",
      "\n",
      "Final : \n",
      "w = 1.166362350335582 b = -3.63029143940436\n",
      "Coste = 4.483388256587726\n"
     ]
    }
   ],
   "source": [
    "print(\"Start: \")\n",
    "print(\"w =\",w, \"b =\", b)\n",
    "print(\"Coste =\", cost_fun(x, y, w, b))\n",
    "\n",
    "for i in range(NUMBER_OF_ITS):\n",
    "    #print(w, b)\n",
    "    y_pred = linear_fun(x, w, b)\n",
    "    dis =  y_pred - y\n",
    "    w -= ALFA * (sum(dis * x) / len(x))\n",
    "    b -=  ALFA * (sum(dis) / len(x))\n",
    "\n",
    "print(\"\\nFinal : \")\n",
    "print(\"w =\",w, \"b =\", b)\n",
    "print(\"Coste =\", cost_fun(x, y, w, b))\n"
   ]
  },
  {
   "cell_type": "code",
   "execution_count": 10,
   "metadata": {},
   "outputs": [
    {
     "name": "stdout",
     "output_type": "stream",
     "text": [
      "4.534245012944714\n"
     ]
    }
   ],
   "source": [
    "print(linear_regression(7, w, b))"
   ]
  },
  {
   "cell_type": "code",
   "execution_count": 11,
   "metadata": {},
   "outputs": [
    {
     "data": {
      "text/plain": "<Figure size 640x480 with 1 Axes>",
      "image/png": "[encoded data removed]"
     },
     "metadata": {},
     "output_type": "display_data"
    }
   ],
   "source": [
    "y_pred = linear_fun(x, w, b)\n",
    "\n",
    "plt.plot(x, y, \"x\",color=\"red\")\n",
    "plt.plot(x, y_pred)\n",
    "plt.show()"
   ]
  },
  {
   "cell_type": "code",
   "execution_count": 11,
   "metadata": {},
   "outputs": [],
   "source": []
  }
 ],
 "metadata": {
  "colab": {
   "provenance": []
  },
  "kernelspec": {
   "display_name": "Python 3 (ipykernel)",
   "language": "python",
   "name": "python3"
  },
  "language_info": {
   "codemirror_mode": {
    "name": "ipython",
    "version": 3
   },
   "file_extension": ".py",
   "mimetype": "text/x-python",
   "name": "python",
   "nbconvert_exporter": "python",
   "pygments_lexer": "ipython3",
   "version": "3.9.13"
  },
  "vscode": {
   "interpreter": {
    "hash": "653b5c057605e52654ee9c8d4a8239c7479474eae78a44a5d2fc84c0ed8330b2"
   }
  }
 },
 "nbformat": 4,
 "nbformat_minor": 1
}
